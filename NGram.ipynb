{
  "nbformat": 4,
  "nbformat_minor": 0,
  "metadata": {
    "colab": {
      "provenance": []
    },
    "kernelspec": {
      "name": "python3",
      "display_name": "Python 3"
    },
    "language_info": {
      "name": "python"
    }
  },
  "cells": [
    {
      "cell_type": "code",
      "execution_count": 1,
      "metadata": {
        "colab": {
          "base_uri": "https://localhost:8080/"
        },
        "id": "Wsk_hAdgy91a",
        "outputId": "bac05a74-8d5b-4538-f3a1-d1586030056d"
      },
      "outputs": [
        {
          "output_type": "stream",
          "name": "stdout",
          "text": [
            "('m', 'o')\n",
            "('o', 's')\n",
            "('s', 'e')\n",
            "('e', 's')\n",
            "('s', ' ')\n",
            "(' ', 's')\n",
            "('s', 'u')\n",
            "('u', 'p')\n",
            "('p', 'p')\n",
            "('p', 'o')\n",
            "('o', 's')\n",
            "('s', 'e')\n",
            "('e', 's')\n",
            "('s', ' ')\n",
            "(' ', 'h')\n",
            "('h', 'i')\n",
            "('i', 's')\n",
            "('s', ' ')\n",
            "(' ', 't')\n",
            "('t', 'o')\n",
            "('o', 'e')\n",
            "('e', 's')\n",
            "('s', 'e')\n",
            "('e', 's')\n",
            "('s', ' ')\n",
            "(' ', 'a')\n",
            "('a', 'r')\n",
            "('r', 'e')\n",
            "('e', ' ')\n",
            "(' ', 'r')\n",
            "('r', 'o')\n",
            "('o', 's')\n",
            "('s', 'e')\n",
            "('e', 's')\n",
            "('s', ' ')\n",
            "(' ', 'b')\n",
            "('b', 'u')\n",
            "('u', 't')\n",
            "('t', ' ')\n",
            "(' ', 'm')\n",
            "('m', 'o')\n",
            "('o', 's')\n",
            "('s', 'e')\n",
            "('e', 's')\n",
            "('s', ' ')\n",
            "(' ', 's')\n",
            "('s', 'u')\n",
            "('u', 'p')\n",
            "('p', 'p')\n",
            "('p', 'o')\n",
            "('o', 's')\n",
            "('s', 'e')\n",
            "('e', 's')\n",
            "('s', ' ')\n",
            "(' ', 'e')\n",
            "('e', 'r')\n",
            "('r', 'r')\n",
            "('r', 'o')\n",
            "('o', 'n')\n",
            "('n', 'e')\n",
            "('e', 'o')\n",
            "('o', 'u')\n",
            "('u', 's')\n",
            "('s', 'l')\n",
            "('l', 'y')\n",
            "========================\n",
            "('m', 'o')\n",
            "('o', 's')\n",
            "('s', 'e')\n",
            "('e', 's')\n",
            "('s', ' ')\n",
            "(' ', 's')\n",
            "('s', 'u')\n",
            "('u', 'p')\n",
            "('p', 'p')\n",
            "('p', 'o')\n",
            "('o', 's')\n",
            "('s', 'e')\n",
            "('e', 's')\n",
            "('s', ' ')\n",
            "(' ', 'h')\n",
            "('h', 'i')\n",
            "('i', 's')\n",
            "('s', ' ')\n",
            "(' ', 't')\n",
            "('t', 'o')\n",
            "('o', 'e')\n",
            "('e', 's')\n",
            "('s', 'e')\n",
            "('e', 's')\n",
            "('s', ' ')\n",
            "(' ', 'a')\n",
            "('a', 'r')\n",
            "('r', 'e')\n",
            "('e', ' ')\n",
            "(' ', 'r')\n",
            "('r', 'o')\n",
            "('o', 's')\n",
            "('s', 'e')\n",
            "('e', 's')\n",
            "('s', ' ')\n",
            "(' ', 'b')\n",
            "('b', 'u')\n",
            "('u', 't')\n",
            "('t', ' ')\n",
            "(' ', 'm')\n",
            "('m', 'o')\n",
            "('o', 's')\n",
            "('s', 'e')\n",
            "('e', 's')\n",
            "('s', ' ')\n",
            "(' ', 's')\n",
            "('s', 'u')\n",
            "('u', 'p')\n",
            "('p', 'p')\n",
            "('p', 'o')\n",
            "('o', 's')\n",
            "('s', 'e')\n",
            "('e', 's')\n",
            "('s', ' ')\n",
            "(' ', 'e')\n",
            "('e', 'r')\n",
            "('r', 'r')\n",
            "('r', 'o')\n",
            "('o', 'n')\n",
            "('n', 'e')\n",
            "('e', 'o')\n",
            "('o', 'u')\n",
            "('u', 's')\n",
            "('s', 'l')\n",
            "('l', 'y')\n"
          ]
        }
      ],
      "source": [
        "import nltk as nl\n",
        "from nltk.util import ngrams\n",
        "\n",
        "string = \"moses supposes his toeses are roses but moses supposes erroneously\"\n",
        "bigrams1 = nl.bigrams(string)\n",
        "bigrams2 = ngrams(string,2)\n",
        "for i in bigrams1: \n",
        "    print(i)\n",
        "print('========================')\n",
        "for i in bigrams2: \n",
        "    print(i)"
      ]
    },
    {
      "cell_type": "code",
      "source": [
        "bigrams1 = nl.bigrams(string.split())\n",
        "bigrams2 = ngrams(string.split(),2)\n",
        "for i in bigrams1: \n",
        "    print(i)\n",
        "print('========================')\n",
        "for i in bigrams2: \n",
        "    print(i)\n",
        "        "
      ],
      "metadata": {
        "colab": {
          "base_uri": "https://localhost:8080/"
        },
        "id": "5UFYhRuIy_Ko",
        "outputId": "2018bdc2-9c98-4ece-d8d9-d2fbca9146ba"
      },
      "execution_count": 2,
      "outputs": [
        {
          "output_type": "stream",
          "name": "stdout",
          "text": [
            "('moses', 'supposes')\n",
            "('supposes', 'his')\n",
            "('his', 'toeses')\n",
            "('toeses', 'are')\n",
            "('are', 'roses')\n",
            "('roses', 'but')\n",
            "('but', 'moses')\n",
            "('moses', 'supposes')\n",
            "('supposes', 'erroneously')\n",
            "========================\n",
            "('moses', 'supposes')\n",
            "('supposes', 'his')\n",
            "('his', 'toeses')\n",
            "('toeses', 'are')\n",
            "('are', 'roses')\n",
            "('roses', 'but')\n",
            "('but', 'moses')\n",
            "('moses', 'supposes')\n",
            "('supposes', 'erroneously')\n"
          ]
        }
      ]
    },
    {
      "cell_type": "code",
      "source": [
        "trigrams1 = nl.trigrams(string.split())\n",
        "trigrams2 = ngrams(string.split(),3)\n",
        "for i in trigrams1: \n",
        "    print(i)\n",
        "print('========================')\n",
        "for i in trigrams2: \n",
        "    print(i)"
      ],
      "metadata": {
        "colab": {
          "base_uri": "https://localhost:8080/"
        },
        "id": "IwfOXYbMzGdH",
        "outputId": "1aaeb806-1df6-4a0b-a6d5-bcf136238f7b"
      },
      "execution_count": 3,
      "outputs": [
        {
          "output_type": "stream",
          "name": "stdout",
          "text": [
            "('moses', 'supposes', 'his')\n",
            "('supposes', 'his', 'toeses')\n",
            "('his', 'toeses', 'are')\n",
            "('toeses', 'are', 'roses')\n",
            "('are', 'roses', 'but')\n",
            "('roses', 'but', 'moses')\n",
            "('but', 'moses', 'supposes')\n",
            "('moses', 'supposes', 'erroneously')\n",
            "========================\n",
            "('moses', 'supposes', 'his')\n",
            "('supposes', 'his', 'toeses')\n",
            "('his', 'toeses', 'are')\n",
            "('toeses', 'are', 'roses')\n",
            "('are', 'roses', 'but')\n",
            "('roses', 'but', 'moses')\n",
            "('but', 'moses', 'supposes')\n",
            "('moses', 'supposes', 'erroneously')\n"
          ]
        }
      ]
    },
    {
      "cell_type": "code",
      "source": [
        "fourgrams = ngrams(string.split(),4)\n",
        "for i in fourgrams: \n",
        "    print(i)"
      ],
      "metadata": {
        "colab": {
          "base_uri": "https://localhost:8080/"
        },
        "id": "EvObq7BIzM-d",
        "outputId": "3655ca4a-3f1d-4d03-a503-c5d59f8e2630"
      },
      "execution_count": 4,
      "outputs": [
        {
          "output_type": "stream",
          "name": "stdout",
          "text": [
            "('moses', 'supposes', 'his', 'toeses')\n",
            "('supposes', 'his', 'toeses', 'are')\n",
            "('his', 'toeses', 'are', 'roses')\n",
            "('toeses', 'are', 'roses', 'but')\n",
            "('are', 'roses', 'but', 'moses')\n",
            "('roses', 'but', 'moses', 'supposes')\n",
            "('but', 'moses', 'supposes', 'erroneously')\n"
          ]
        }
      ]
    },
    {
      "cell_type": "code",
      "source": [
        "tengrams = ngrams(string.split(),10)\n",
        "for i in tengrams: \n",
        "    print(i)"
      ],
      "metadata": {
        "colab": {
          "base_uri": "https://localhost:8080/"
        },
        "id": "0_kzBX4HzQc3",
        "outputId": "f204c60a-b75a-4d1a-9a7f-a5c6196f2c3e"
      },
      "execution_count": 5,
      "outputs": [
        {
          "output_type": "stream",
          "name": "stdout",
          "text": [
            "('moses', 'supposes', 'his', 'toeses', 'are', 'roses', 'but', 'moses', 'supposes', 'erroneously')\n"
          ]
        }
      ]
    },
    {
      "cell_type": "code",
      "source": [
        "tengrams = ngrams(string.split(),12)\n",
        "for i in tengrams: \n",
        "    print(i)"
      ],
      "metadata": {
        "id": "h9z9Wy13zTTH"
      },
      "execution_count": 6,
      "outputs": []
    }
  ]
}